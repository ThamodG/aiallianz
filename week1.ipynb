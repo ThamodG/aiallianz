{
 "cells": [
  {
   "cell_type": "markdown",
   "metadata": {},
   "source": [
    "#### Import Dependancies"
   ]
  },
  {
   "cell_type": "code",
   "execution_count": 2,
   "metadata": {},
   "outputs": [],
   "source": [
    "import pandas as pd\n",
    "import numpy as np\n",
    "import matplotlib.pyplot as plt"
   ]
  },
  {
   "cell_type": "markdown",
   "metadata": {},
   "source": [
    "#### Read dataset"
   ]
  },
  {
   "cell_type": "code",
   "execution_count": 3,
   "metadata": {},
   "outputs": [
    {
     "data": {
      "text/html": [
       "<div>\n",
       "<style scoped>\n",
       "    .dataframe tbody tr th:only-of-type {\n",
       "        vertical-align: middle;\n",
       "    }\n",
       "\n",
       "    .dataframe tbody tr th {\n",
       "        vertical-align: top;\n",
       "    }\n",
       "\n",
       "    .dataframe thead th {\n",
       "        text-align: right;\n",
       "    }\n",
       "</style>\n",
       "<table border=\"1\" class=\"dataframe\">\n",
       "  <thead>\n",
       "    <tr style=\"text-align: right;\">\n",
       "      <th></th>\n",
       "      <th>Unnamed: 0</th>\n",
       "      <th>fixed acidity</th>\n",
       "      <th>volatile acidity</th>\n",
       "      <th>citric acid</th>\n",
       "      <th>residual sugar</th>\n",
       "      <th>chlorides</th>\n",
       "      <th>free sulfur dioxide</th>\n",
       "      <th>total sulfur dioxide</th>\n",
       "      <th>density</th>\n",
       "      <th>pH</th>\n",
       "      <th>sulphates</th>\n",
       "      <th>alcohol</th>\n",
       "      <th>quality</th>\n",
       "      <th>Type</th>\n",
       "    </tr>\n",
       "  </thead>\n",
       "  <tbody>\n",
       "    <tr>\n",
       "      <th>0</th>\n",
       "      <td>0</td>\n",
       "      <td>6.8</td>\n",
       "      <td>0.53</td>\n",
       "      <td>0.35</td>\n",
       "      <td>3.8</td>\n",
       "      <td>0.034</td>\n",
       "      <td>26.0</td>\n",
       "      <td>109.0</td>\n",
       "      <td>0.9906</td>\n",
       "      <td>3.26</td>\n",
       "      <td>0.57</td>\n",
       "      <td>12.7</td>\n",
       "      <td>8</td>\n",
       "      <td>White Wine</td>\n",
       "    </tr>\n",
       "    <tr>\n",
       "      <th>1</th>\n",
       "      <td>0</td>\n",
       "      <td>6.8</td>\n",
       "      <td>0.53</td>\n",
       "      <td>0.35</td>\n",
       "      <td>3.8</td>\n",
       "      <td>0.034</td>\n",
       "      <td>26.0</td>\n",
       "      <td>109.0</td>\n",
       "      <td>0.9906</td>\n",
       "      <td>3.26</td>\n",
       "      <td>0.57</td>\n",
       "      <td>12.7</td>\n",
       "      <td>8</td>\n",
       "      <td>White Wine</td>\n",
       "    </tr>\n",
       "    <tr>\n",
       "      <th>2</th>\n",
       "      <td>0</td>\n",
       "      <td>6.8</td>\n",
       "      <td>0.53</td>\n",
       "      <td>0.35</td>\n",
       "      <td>3.8</td>\n",
       "      <td>0.034</td>\n",
       "      <td>26.0</td>\n",
       "      <td>109.0</td>\n",
       "      <td>0.9906</td>\n",
       "      <td>3.26</td>\n",
       "      <td>0.57</td>\n",
       "      <td>12.7</td>\n",
       "      <td>8</td>\n",
       "      <td>White Wine</td>\n",
       "    </tr>\n",
       "    <tr>\n",
       "      <th>3</th>\n",
       "      <td>0</td>\n",
       "      <td>6.8</td>\n",
       "      <td>0.53</td>\n",
       "      <td>0.35</td>\n",
       "      <td>3.8</td>\n",
       "      <td>0.034</td>\n",
       "      <td>26.0</td>\n",
       "      <td>109.0</td>\n",
       "      <td>0.9906</td>\n",
       "      <td>3.26</td>\n",
       "      <td>0.57</td>\n",
       "      <td>12.7</td>\n",
       "      <td>8</td>\n",
       "      <td>White Wine</td>\n",
       "    </tr>\n",
       "    <tr>\n",
       "      <th>4</th>\n",
       "      <td>0</td>\n",
       "      <td>6.8</td>\n",
       "      <td>0.53</td>\n",
       "      <td>0.35</td>\n",
       "      <td>3.8</td>\n",
       "      <td>0.034</td>\n",
       "      <td>26.0</td>\n",
       "      <td>109.0</td>\n",
       "      <td>0.9906</td>\n",
       "      <td>3.26</td>\n",
       "      <td>0.57</td>\n",
       "      <td>12.7</td>\n",
       "      <td>8</td>\n",
       "      <td>White Wine</td>\n",
       "    </tr>\n",
       "  </tbody>\n",
       "</table>\n",
       "</div>"
      ],
      "text/plain": [
       "   Unnamed: 0  fixed acidity  volatile acidity  citric acid  residual sugar  \\\n",
       "0           0            6.8              0.53         0.35             3.8   \n",
       "1           0            6.8              0.53         0.35             3.8   \n",
       "2           0            6.8              0.53         0.35             3.8   \n",
       "3           0            6.8              0.53         0.35             3.8   \n",
       "4           0            6.8              0.53         0.35             3.8   \n",
       "\n",
       "   chlorides  free sulfur dioxide  total sulfur dioxide  density    pH  \\\n",
       "0      0.034                 26.0                 109.0   0.9906  3.26   \n",
       "1      0.034                 26.0                 109.0   0.9906  3.26   \n",
       "2      0.034                 26.0                 109.0   0.9906  3.26   \n",
       "3      0.034                 26.0                 109.0   0.9906  3.26   \n",
       "4      0.034                 26.0                 109.0   0.9906  3.26   \n",
       "\n",
       "   sulphates  alcohol  quality        Type  \n",
       "0       0.57     12.7        8  White Wine  \n",
       "1       0.57     12.7        8  White Wine  \n",
       "2       0.57     12.7        8  White Wine  \n",
       "3       0.57     12.7        8  White Wine  \n",
       "4       0.57     12.7        8  White Wine  "
      ]
     },
     "execution_count": 3,
     "metadata": {},
     "output_type": "execute_result"
    }
   ],
   "source": [
    "df = pd.read_csv('WineQuality.csv')\n",
    "df.head()"
   ]
  },
  {
   "cell_type": "markdown",
   "metadata": {},
   "source": [
    "#### Sorting out values according to 1st column"
   ]
  },
  {
   "cell_type": "code",
   "execution_count": 4,
   "metadata": {},
   "outputs": [
    {
     "data": {
      "text/html": [
       "<div>\n",
       "<style scoped>\n",
       "    .dataframe tbody tr th:only-of-type {\n",
       "        vertical-align: middle;\n",
       "    }\n",
       "\n",
       "    .dataframe tbody tr th {\n",
       "        vertical-align: top;\n",
       "    }\n",
       "\n",
       "    .dataframe thead th {\n",
       "        text-align: right;\n",
       "    }\n",
       "</style>\n",
       "<table border=\"1\" class=\"dataframe\">\n",
       "  <thead>\n",
       "    <tr style=\"text-align: right;\">\n",
       "      <th></th>\n",
       "      <th>Unnamed: 0</th>\n",
       "      <th>fixed acidity</th>\n",
       "      <th>volatile acidity</th>\n",
       "      <th>citric acid</th>\n",
       "      <th>residual sugar</th>\n",
       "      <th>chlorides</th>\n",
       "      <th>free sulfur dioxide</th>\n",
       "      <th>total sulfur dioxide</th>\n",
       "      <th>density</th>\n",
       "      <th>pH</th>\n",
       "      <th>sulphates</th>\n",
       "      <th>alcohol</th>\n",
       "      <th>quality</th>\n",
       "      <th>Type</th>\n",
       "    </tr>\n",
       "  </thead>\n",
       "  <tbody>\n",
       "    <tr>\n",
       "      <th>0</th>\n",
       "      <td>0</td>\n",
       "      <td>6.8</td>\n",
       "      <td>0.53</td>\n",
       "      <td>0.35</td>\n",
       "      <td>3.8</td>\n",
       "      <td>0.034</td>\n",
       "      <td>26.0</td>\n",
       "      <td>109.0</td>\n",
       "      <td>0.99060</td>\n",
       "      <td>3.26</td>\n",
       "      <td>0.57</td>\n",
       "      <td>12.7</td>\n",
       "      <td>8</td>\n",
       "      <td>White Wine</td>\n",
       "    </tr>\n",
       "    <tr>\n",
       "      <th>1</th>\n",
       "      <td>0</td>\n",
       "      <td>6.8</td>\n",
       "      <td>0.53</td>\n",
       "      <td>0.35</td>\n",
       "      <td>3.8</td>\n",
       "      <td>0.034</td>\n",
       "      <td>26.0</td>\n",
       "      <td>109.0</td>\n",
       "      <td>0.99060</td>\n",
       "      <td>3.26</td>\n",
       "      <td>0.57</td>\n",
       "      <td>12.7</td>\n",
       "      <td>8</td>\n",
       "      <td>White Wine</td>\n",
       "    </tr>\n",
       "    <tr>\n",
       "      <th>2</th>\n",
       "      <td>0</td>\n",
       "      <td>6.8</td>\n",
       "      <td>0.53</td>\n",
       "      <td>0.35</td>\n",
       "      <td>3.8</td>\n",
       "      <td>0.034</td>\n",
       "      <td>26.0</td>\n",
       "      <td>109.0</td>\n",
       "      <td>0.99060</td>\n",
       "      <td>3.26</td>\n",
       "      <td>0.57</td>\n",
       "      <td>12.7</td>\n",
       "      <td>8</td>\n",
       "      <td>White Wine</td>\n",
       "    </tr>\n",
       "    <tr>\n",
       "      <th>3</th>\n",
       "      <td>0</td>\n",
       "      <td>6.8</td>\n",
       "      <td>0.53</td>\n",
       "      <td>0.35</td>\n",
       "      <td>3.8</td>\n",
       "      <td>0.034</td>\n",
       "      <td>26.0</td>\n",
       "      <td>109.0</td>\n",
       "      <td>0.99060</td>\n",
       "      <td>3.26</td>\n",
       "      <td>0.57</td>\n",
       "      <td>12.7</td>\n",
       "      <td>8</td>\n",
       "      <td>White Wine</td>\n",
       "    </tr>\n",
       "    <tr>\n",
       "      <th>4</th>\n",
       "      <td>0</td>\n",
       "      <td>6.8</td>\n",
       "      <td>0.53</td>\n",
       "      <td>0.35</td>\n",
       "      <td>3.8</td>\n",
       "      <td>0.034</td>\n",
       "      <td>26.0</td>\n",
       "      <td>109.0</td>\n",
       "      <td>0.99060</td>\n",
       "      <td>3.26</td>\n",
       "      <td>0.57</td>\n",
       "      <td>12.7</td>\n",
       "      <td>8</td>\n",
       "      <td>White Wine</td>\n",
       "    </tr>\n",
       "    <tr>\n",
       "      <th>...</th>\n",
       "      <td>...</td>\n",
       "      <td>...</td>\n",
       "      <td>...</td>\n",
       "      <td>...</td>\n",
       "      <td>...</td>\n",
       "      <td>...</td>\n",
       "      <td>...</td>\n",
       "      <td>...</td>\n",
       "      <td>...</td>\n",
       "      <td>...</td>\n",
       "      <td>...</td>\n",
       "      <td>...</td>\n",
       "      <td>...</td>\n",
       "      <td>...</td>\n",
       "    </tr>\n",
       "    <tr>\n",
       "      <th>32477</th>\n",
       "      <td>6495</td>\n",
       "      <td>7.6</td>\n",
       "      <td>0.27</td>\n",
       "      <td>0.34</td>\n",
       "      <td>5.0</td>\n",
       "      <td>0.040</td>\n",
       "      <td>18.0</td>\n",
       "      <td>56.0</td>\n",
       "      <td>0.99084</td>\n",
       "      <td>3.06</td>\n",
       "      <td>0.48</td>\n",
       "      <td>12.4</td>\n",
       "      <td>6</td>\n",
       "      <td>White Wine</td>\n",
       "    </tr>\n",
       "    <tr>\n",
       "      <th>32481</th>\n",
       "      <td>6495</td>\n",
       "      <td>7.6</td>\n",
       "      <td>0.27</td>\n",
       "      <td>0.34</td>\n",
       "      <td>5.0</td>\n",
       "      <td>0.040</td>\n",
       "      <td>18.0</td>\n",
       "      <td>56.0</td>\n",
       "      <td>0.99084</td>\n",
       "      <td>3.06</td>\n",
       "      <td>0.48</td>\n",
       "      <td>12.4</td>\n",
       "      <td>6</td>\n",
       "      <td>White Wine</td>\n",
       "    </tr>\n",
       "    <tr>\n",
       "      <th>32483</th>\n",
       "      <td>6496</td>\n",
       "      <td>8.8</td>\n",
       "      <td>0.47</td>\n",
       "      <td>0.49</td>\n",
       "      <td>2.9</td>\n",
       "      <td>0.085</td>\n",
       "      <td>17.0</td>\n",
       "      <td>110.0</td>\n",
       "      <td>0.99820</td>\n",
       "      <td>3.29</td>\n",
       "      <td>0.60</td>\n",
       "      <td>9.8</td>\n",
       "      <td>5</td>\n",
       "      <td>Red Wine</td>\n",
       "    </tr>\n",
       "    <tr>\n",
       "      <th>32482</th>\n",
       "      <td>6496</td>\n",
       "      <td>8.8</td>\n",
       "      <td>0.47</td>\n",
       "      <td>0.49</td>\n",
       "      <td>2.9</td>\n",
       "      <td>0.085</td>\n",
       "      <td>17.0</td>\n",
       "      <td>110.0</td>\n",
       "      <td>0.99820</td>\n",
       "      <td>3.29</td>\n",
       "      <td>0.60</td>\n",
       "      <td>9.8</td>\n",
       "      <td>5</td>\n",
       "      <td>Red Wine</td>\n",
       "    </tr>\n",
       "    <tr>\n",
       "      <th>32484</th>\n",
       "      <td>6496</td>\n",
       "      <td>8.8</td>\n",
       "      <td>0.47</td>\n",
       "      <td>0.49</td>\n",
       "      <td>2.9</td>\n",
       "      <td>0.085</td>\n",
       "      <td>17.0</td>\n",
       "      <td>110.0</td>\n",
       "      <td>0.99820</td>\n",
       "      <td>3.29</td>\n",
       "      <td>0.60</td>\n",
       "      <td>9.8</td>\n",
       "      <td>5</td>\n",
       "      <td>Red Wine</td>\n",
       "    </tr>\n",
       "  </tbody>\n",
       "</table>\n",
       "<p>32485 rows × 14 columns</p>\n",
       "</div>"
      ],
      "text/plain": [
       "       Unnamed: 0  fixed acidity  volatile acidity  citric acid  \\\n",
       "0               0            6.8              0.53         0.35   \n",
       "1               0            6.8              0.53         0.35   \n",
       "2               0            6.8              0.53         0.35   \n",
       "3               0            6.8              0.53         0.35   \n",
       "4               0            6.8              0.53         0.35   \n",
       "...           ...            ...               ...          ...   \n",
       "32477        6495            7.6              0.27         0.34   \n",
       "32481        6495            7.6              0.27         0.34   \n",
       "32483        6496            8.8              0.47         0.49   \n",
       "32482        6496            8.8              0.47         0.49   \n",
       "32484        6496            8.8              0.47         0.49   \n",
       "\n",
       "       residual sugar  chlorides  free sulfur dioxide  total sulfur dioxide  \\\n",
       "0                 3.8      0.034                 26.0                 109.0   \n",
       "1                 3.8      0.034                 26.0                 109.0   \n",
       "2                 3.8      0.034                 26.0                 109.0   \n",
       "3                 3.8      0.034                 26.0                 109.0   \n",
       "4                 3.8      0.034                 26.0                 109.0   \n",
       "...               ...        ...                  ...                   ...   \n",
       "32477             5.0      0.040                 18.0                  56.0   \n",
       "32481             5.0      0.040                 18.0                  56.0   \n",
       "32483             2.9      0.085                 17.0                 110.0   \n",
       "32482             2.9      0.085                 17.0                 110.0   \n",
       "32484             2.9      0.085                 17.0                 110.0   \n",
       "\n",
       "       density    pH  sulphates  alcohol  quality        Type  \n",
       "0      0.99060  3.26       0.57     12.7        8  White Wine  \n",
       "1      0.99060  3.26       0.57     12.7        8  White Wine  \n",
       "2      0.99060  3.26       0.57     12.7        8  White Wine  \n",
       "3      0.99060  3.26       0.57     12.7        8  White Wine  \n",
       "4      0.99060  3.26       0.57     12.7        8  White Wine  \n",
       "...        ...   ...        ...      ...      ...         ...  \n",
       "32477  0.99084  3.06       0.48     12.4        6  White Wine  \n",
       "32481  0.99084  3.06       0.48     12.4        6  White Wine  \n",
       "32483  0.99820  3.29       0.60      9.8        5    Red Wine  \n",
       "32482  0.99820  3.29       0.60      9.8        5    Red Wine  \n",
       "32484  0.99820  3.29       0.60      9.8        5    Red Wine  \n",
       "\n",
       "[32485 rows x 14 columns]"
      ]
     },
     "execution_count": 4,
     "metadata": {},
     "output_type": "execute_result"
    }
   ],
   "source": [
    "df.sort_values(\"Unnamed: 0\")"
   ]
  },
  {
   "cell_type": "markdown",
   "metadata": {},
   "source": [
    "Seems that the 1st column is a sort of batching of how the data has been collected. Since the 1st column doesn't really affect the dataset, the whole column can be dropped."
   ]
  },
  {
   "cell_type": "code",
   "execution_count": 5,
   "metadata": {},
   "outputs": [
    {
     "data": {
      "text/html": [
       "<div>\n",
       "<style scoped>\n",
       "    .dataframe tbody tr th:only-of-type {\n",
       "        vertical-align: middle;\n",
       "    }\n",
       "\n",
       "    .dataframe tbody tr th {\n",
       "        vertical-align: top;\n",
       "    }\n",
       "\n",
       "    .dataframe thead th {\n",
       "        text-align: right;\n",
       "    }\n",
       "</style>\n",
       "<table border=\"1\" class=\"dataframe\">\n",
       "  <thead>\n",
       "    <tr style=\"text-align: right;\">\n",
       "      <th></th>\n",
       "      <th>fixed acidity</th>\n",
       "      <th>volatile acidity</th>\n",
       "      <th>citric acid</th>\n",
       "      <th>residual sugar</th>\n",
       "      <th>chlorides</th>\n",
       "      <th>free sulfur dioxide</th>\n",
       "      <th>total sulfur dioxide</th>\n",
       "      <th>density</th>\n",
       "      <th>pH</th>\n",
       "      <th>sulphates</th>\n",
       "      <th>alcohol</th>\n",
       "      <th>quality</th>\n",
       "      <th>Type</th>\n",
       "    </tr>\n",
       "  </thead>\n",
       "  <tbody>\n",
       "    <tr>\n",
       "      <th>0</th>\n",
       "      <td>6.8</td>\n",
       "      <td>0.53</td>\n",
       "      <td>0.35</td>\n",
       "      <td>3.8</td>\n",
       "      <td>0.034</td>\n",
       "      <td>26.0</td>\n",
       "      <td>109.0</td>\n",
       "      <td>0.9906</td>\n",
       "      <td>3.26</td>\n",
       "      <td>0.57</td>\n",
       "      <td>12.7</td>\n",
       "      <td>8</td>\n",
       "      <td>White Wine</td>\n",
       "    </tr>\n",
       "    <tr>\n",
       "      <th>1</th>\n",
       "      <td>6.8</td>\n",
       "      <td>0.53</td>\n",
       "      <td>0.35</td>\n",
       "      <td>3.8</td>\n",
       "      <td>0.034</td>\n",
       "      <td>26.0</td>\n",
       "      <td>109.0</td>\n",
       "      <td>0.9906</td>\n",
       "      <td>3.26</td>\n",
       "      <td>0.57</td>\n",
       "      <td>12.7</td>\n",
       "      <td>8</td>\n",
       "      <td>White Wine</td>\n",
       "    </tr>\n",
       "    <tr>\n",
       "      <th>2</th>\n",
       "      <td>6.8</td>\n",
       "      <td>0.53</td>\n",
       "      <td>0.35</td>\n",
       "      <td>3.8</td>\n",
       "      <td>0.034</td>\n",
       "      <td>26.0</td>\n",
       "      <td>109.0</td>\n",
       "      <td>0.9906</td>\n",
       "      <td>3.26</td>\n",
       "      <td>0.57</td>\n",
       "      <td>12.7</td>\n",
       "      <td>8</td>\n",
       "      <td>White Wine</td>\n",
       "    </tr>\n",
       "    <tr>\n",
       "      <th>3</th>\n",
       "      <td>6.8</td>\n",
       "      <td>0.53</td>\n",
       "      <td>0.35</td>\n",
       "      <td>3.8</td>\n",
       "      <td>0.034</td>\n",
       "      <td>26.0</td>\n",
       "      <td>109.0</td>\n",
       "      <td>0.9906</td>\n",
       "      <td>3.26</td>\n",
       "      <td>0.57</td>\n",
       "      <td>12.7</td>\n",
       "      <td>8</td>\n",
       "      <td>White Wine</td>\n",
       "    </tr>\n",
       "    <tr>\n",
       "      <th>4</th>\n",
       "      <td>6.8</td>\n",
       "      <td>0.53</td>\n",
       "      <td>0.35</td>\n",
       "      <td>3.8</td>\n",
       "      <td>0.034</td>\n",
       "      <td>26.0</td>\n",
       "      <td>109.0</td>\n",
       "      <td>0.9906</td>\n",
       "      <td>3.26</td>\n",
       "      <td>0.57</td>\n",
       "      <td>12.7</td>\n",
       "      <td>8</td>\n",
       "      <td>White Wine</td>\n",
       "    </tr>\n",
       "  </tbody>\n",
       "</table>\n",
       "</div>"
      ],
      "text/plain": [
       "   fixed acidity  volatile acidity  citric acid  residual sugar  chlorides  \\\n",
       "0            6.8              0.53         0.35             3.8      0.034   \n",
       "1            6.8              0.53         0.35             3.8      0.034   \n",
       "2            6.8              0.53         0.35             3.8      0.034   \n",
       "3            6.8              0.53         0.35             3.8      0.034   \n",
       "4            6.8              0.53         0.35             3.8      0.034   \n",
       "\n",
       "   free sulfur dioxide  total sulfur dioxide  density    pH  sulphates  \\\n",
       "0                 26.0                 109.0   0.9906  3.26       0.57   \n",
       "1                 26.0                 109.0   0.9906  3.26       0.57   \n",
       "2                 26.0                 109.0   0.9906  3.26       0.57   \n",
       "3                 26.0                 109.0   0.9906  3.26       0.57   \n",
       "4                 26.0                 109.0   0.9906  3.26       0.57   \n",
       "\n",
       "   alcohol  quality        Type  \n",
       "0     12.7        8  White Wine  \n",
       "1     12.7        8  White Wine  \n",
       "2     12.7        8  White Wine  \n",
       "3     12.7        8  White Wine  \n",
       "4     12.7        8  White Wine  "
      ]
     },
     "execution_count": 5,
     "metadata": {},
     "output_type": "execute_result"
    }
   ],
   "source": [
    "df = df.drop(\"Unnamed: 0\", axis=1)\n",
    "df.head()"
   ]
  },
  {
   "cell_type": "markdown",
   "metadata": {},
   "source": [
    "#### Checking for any null values in the dataset\n"
   ]
  },
  {
   "cell_type": "code",
   "execution_count": 6,
   "metadata": {},
   "outputs": [
    {
     "data": {
      "text/plain": [
       "fixed acidity           0\n",
       "volatile acidity        0\n",
       "citric acid             0\n",
       "residual sugar          0\n",
       "chlorides               0\n",
       "free sulfur dioxide     0\n",
       "total sulfur dioxide    0\n",
       "density                 0\n",
       "pH                      0\n",
       "sulphates               0\n",
       "alcohol                 0\n",
       "quality                 0\n",
       "Type                    0\n",
       "dtype: int64"
      ]
     },
     "execution_count": 6,
     "metadata": {},
     "output_type": "execute_result"
    }
   ],
   "source": [
    "df.isnull().sum()"
   ]
  },
  {
   "cell_type": "markdown",
   "metadata": {},
   "source": [
    "checking for each column data type"
   ]
  },
  {
   "cell_type": "markdown",
   "metadata": {},
   "source": [
    "#### Checking for statistical values of the dataset"
   ]
  },
  {
   "cell_type": "code",
   "execution_count": 7,
   "metadata": {},
   "outputs": [
    {
     "data": {
      "text/html": [
       "<div>\n",
       "<style scoped>\n",
       "    .dataframe tbody tr th:only-of-type {\n",
       "        vertical-align: middle;\n",
       "    }\n",
       "\n",
       "    .dataframe tbody tr th {\n",
       "        vertical-align: top;\n",
       "    }\n",
       "\n",
       "    .dataframe thead th {\n",
       "        text-align: right;\n",
       "    }\n",
       "</style>\n",
       "<table border=\"1\" class=\"dataframe\">\n",
       "  <thead>\n",
       "    <tr style=\"text-align: right;\">\n",
       "      <th></th>\n",
       "      <th>fixed acidity</th>\n",
       "      <th>volatile acidity</th>\n",
       "      <th>citric acid</th>\n",
       "      <th>residual sugar</th>\n",
       "      <th>chlorides</th>\n",
       "      <th>free sulfur dioxide</th>\n",
       "      <th>total sulfur dioxide</th>\n",
       "      <th>density</th>\n",
       "      <th>pH</th>\n",
       "      <th>sulphates</th>\n",
       "      <th>alcohol</th>\n",
       "      <th>quality</th>\n",
       "    </tr>\n",
       "  </thead>\n",
       "  <tbody>\n",
       "    <tr>\n",
       "      <th>count</th>\n",
       "      <td>32485.000000</td>\n",
       "      <td>32485.000000</td>\n",
       "      <td>32485.000000</td>\n",
       "      <td>32485.000000</td>\n",
       "      <td>32485.000000</td>\n",
       "      <td>32485.000000</td>\n",
       "      <td>32485.000000</td>\n",
       "      <td>32485.000000</td>\n",
       "      <td>32485.000000</td>\n",
       "      <td>32485.000000</td>\n",
       "      <td>32485.000000</td>\n",
       "      <td>32485.000000</td>\n",
       "    </tr>\n",
       "    <tr>\n",
       "      <th>mean</th>\n",
       "      <td>7.214736</td>\n",
       "      <td>0.340122</td>\n",
       "      <td>0.318324</td>\n",
       "      <td>5.438696</td>\n",
       "      <td>0.056009</td>\n",
       "      <td>30.458258</td>\n",
       "      <td>115.656303</td>\n",
       "      <td>0.994719</td>\n",
       "      <td>3.219089</td>\n",
       "      <td>0.531500</td>\n",
       "      <td>10.480694</td>\n",
       "      <td>5.811698</td>\n",
       "    </tr>\n",
       "    <tr>\n",
       "      <th>std</th>\n",
       "      <td>1.308216</td>\n",
       "      <td>0.164912</td>\n",
       "      <td>0.145152</td>\n",
       "      <td>4.799221</td>\n",
       "      <td>0.034503</td>\n",
       "      <td>17.608076</td>\n",
       "      <td>56.456074</td>\n",
       "      <td>0.003015</td>\n",
       "      <td>0.161441</td>\n",
       "      <td>0.148712</td>\n",
       "      <td>1.190661</td>\n",
       "      <td>0.872474</td>\n",
       "    </tr>\n",
       "    <tr>\n",
       "      <th>min</th>\n",
       "      <td>3.800000</td>\n",
       "      <td>0.080000</td>\n",
       "      <td>0.000000</td>\n",
       "      <td>0.600000</td>\n",
       "      <td>0.009000</td>\n",
       "      <td>1.000000</td>\n",
       "      <td>6.000000</td>\n",
       "      <td>0.987110</td>\n",
       "      <td>2.720000</td>\n",
       "      <td>0.220000</td>\n",
       "      <td>8.000000</td>\n",
       "      <td>3.000000</td>\n",
       "    </tr>\n",
       "    <tr>\n",
       "      <th>25%</th>\n",
       "      <td>6.400000</td>\n",
       "      <td>0.230000</td>\n",
       "      <td>0.250000</td>\n",
       "      <td>1.800000</td>\n",
       "      <td>0.038000</td>\n",
       "      <td>17.000000</td>\n",
       "      <td>77.000000</td>\n",
       "      <td>0.992400</td>\n",
       "      <td>3.110000</td>\n",
       "      <td>0.430000</td>\n",
       "      <td>9.500000</td>\n",
       "      <td>5.000000</td>\n",
       "    </tr>\n",
       "    <tr>\n",
       "      <th>50%</th>\n",
       "      <td>7.000000</td>\n",
       "      <td>0.290000</td>\n",
       "      <td>0.310000</td>\n",
       "      <td>3.000000</td>\n",
       "      <td>0.047000</td>\n",
       "      <td>29.000000</td>\n",
       "      <td>118.000000</td>\n",
       "      <td>0.994900</td>\n",
       "      <td>3.210000</td>\n",
       "      <td>0.510000</td>\n",
       "      <td>10.300000</td>\n",
       "      <td>6.000000</td>\n",
       "    </tr>\n",
       "    <tr>\n",
       "      <th>75%</th>\n",
       "      <td>7.700000</td>\n",
       "      <td>0.410000</td>\n",
       "      <td>0.390000</td>\n",
       "      <td>8.100000</td>\n",
       "      <td>0.065000</td>\n",
       "      <td>41.000000</td>\n",
       "      <td>156.000000</td>\n",
       "      <td>0.997000</td>\n",
       "      <td>3.320000</td>\n",
       "      <td>0.600000</td>\n",
       "      <td>11.300000</td>\n",
       "      <td>6.000000</td>\n",
       "    </tr>\n",
       "    <tr>\n",
       "      <th>max</th>\n",
       "      <td>15.900000</td>\n",
       "      <td>1.580000</td>\n",
       "      <td>1.660000</td>\n",
       "      <td>65.800000</td>\n",
       "      <td>0.611000</td>\n",
       "      <td>289.000000</td>\n",
       "      <td>440.000000</td>\n",
       "      <td>1.038980</td>\n",
       "      <td>4.010000</td>\n",
       "      <td>2.000000</td>\n",
       "      <td>14.900000</td>\n",
       "      <td>9.000000</td>\n",
       "    </tr>\n",
       "  </tbody>\n",
       "</table>\n",
       "</div>"
      ],
      "text/plain": [
       "       fixed acidity  volatile acidity   citric acid  residual sugar  \\\n",
       "count   32485.000000      32485.000000  32485.000000    32485.000000   \n",
       "mean        7.214736          0.340122      0.318324        5.438696   \n",
       "std         1.308216          0.164912      0.145152        4.799221   \n",
       "min         3.800000          0.080000      0.000000        0.600000   \n",
       "25%         6.400000          0.230000      0.250000        1.800000   \n",
       "50%         7.000000          0.290000      0.310000        3.000000   \n",
       "75%         7.700000          0.410000      0.390000        8.100000   \n",
       "max        15.900000          1.580000      1.660000       65.800000   \n",
       "\n",
       "          chlorides  free sulfur dioxide  total sulfur dioxide       density  \\\n",
       "count  32485.000000         32485.000000          32485.000000  32485.000000   \n",
       "mean       0.056009            30.458258            115.656303      0.994719   \n",
       "std        0.034503            17.608076             56.456074      0.003015   \n",
       "min        0.009000             1.000000              6.000000      0.987110   \n",
       "25%        0.038000            17.000000             77.000000      0.992400   \n",
       "50%        0.047000            29.000000            118.000000      0.994900   \n",
       "75%        0.065000            41.000000            156.000000      0.997000   \n",
       "max        0.611000           289.000000            440.000000      1.038980   \n",
       "\n",
       "                 pH     sulphates       alcohol       quality  \n",
       "count  32485.000000  32485.000000  32485.000000  32485.000000  \n",
       "mean       3.219089      0.531500     10.480694      5.811698  \n",
       "std        0.161441      0.148712      1.190661      0.872474  \n",
       "min        2.720000      0.220000      8.000000      3.000000  \n",
       "25%        3.110000      0.430000      9.500000      5.000000  \n",
       "50%        3.210000      0.510000     10.300000      6.000000  \n",
       "75%        3.320000      0.600000     11.300000      6.000000  \n",
       "max        4.010000      2.000000     14.900000      9.000000  "
      ]
     },
     "execution_count": 7,
     "metadata": {},
     "output_type": "execute_result"
    }
   ],
   "source": [
    "df.describe()"
   ]
  },
  {
   "cell_type": "markdown",
   "metadata": {},
   "source": []
  },
  {
   "cell_type": "code",
   "execution_count": 8,
   "metadata": {},
   "outputs": [
    {
     "name": "stdout",
     "output_type": "stream",
     "text": [
      "<class 'pandas.core.frame.DataFrame'>\n",
      "RangeIndex: 32485 entries, 0 to 32484\n",
      "Data columns (total 13 columns):\n",
      " #   Column                Non-Null Count  Dtype  \n",
      "---  ------                --------------  -----  \n",
      " 0   fixed acidity         32485 non-null  float64\n",
      " 1   volatile acidity      32485 non-null  float64\n",
      " 2   citric acid           32485 non-null  float64\n",
      " 3   residual sugar        32485 non-null  float64\n",
      " 4   chlorides             32485 non-null  float64\n",
      " 5   free sulfur dioxide   32485 non-null  float64\n",
      " 6   total sulfur dioxide  32485 non-null  float64\n",
      " 7   density               32485 non-null  float64\n",
      " 8   pH                    32485 non-null  float64\n",
      " 9   sulphates             32485 non-null  float64\n",
      " 10  alcohol               32485 non-null  float64\n",
      " 11  quality               32485 non-null  int64  \n",
      " 12  Type                  32485 non-null  object \n",
      "dtypes: float64(11), int64(1), object(1)\n",
      "memory usage: 3.2+ MB\n"
     ]
    }
   ],
   "source": [
    "df.info()"
   ]
  },
  {
   "cell_type": "markdown",
   "metadata": {},
   "source": [
    "#### Wine type distribution"
   ]
  },
  {
   "cell_type": "markdown",
   "metadata": {},
   "source": [
    "#### There is only 1 column that has categorical values, which is the \"Type\" column. This column will be converted to numerical values using the LabelEncoder"
   ]
  },
  {
   "cell_type": "code",
   "execution_count": 9,
   "metadata": {},
   "outputs": [
    {
     "data": {
      "text/html": [
       "<div>\n",
       "<style scoped>\n",
       "    .dataframe tbody tr th:only-of-type {\n",
       "        vertical-align: middle;\n",
       "    }\n",
       "\n",
       "    .dataframe tbody tr th {\n",
       "        vertical-align: top;\n",
       "    }\n",
       "\n",
       "    .dataframe thead th {\n",
       "        text-align: right;\n",
       "    }\n",
       "</style>\n",
       "<table border=\"1\" class=\"dataframe\">\n",
       "  <thead>\n",
       "    <tr style=\"text-align: right;\">\n",
       "      <th></th>\n",
       "      <th>fixed acidity</th>\n",
       "      <th>volatile acidity</th>\n",
       "      <th>citric acid</th>\n",
       "      <th>residual sugar</th>\n",
       "      <th>chlorides</th>\n",
       "      <th>free sulfur dioxide</th>\n",
       "      <th>total sulfur dioxide</th>\n",
       "      <th>density</th>\n",
       "      <th>pH</th>\n",
       "      <th>sulphates</th>\n",
       "      <th>alcohol</th>\n",
       "      <th>quality</th>\n",
       "      <th>Type</th>\n",
       "    </tr>\n",
       "  </thead>\n",
       "  <tbody>\n",
       "    <tr>\n",
       "      <th>0</th>\n",
       "      <td>6.8</td>\n",
       "      <td>0.53</td>\n",
       "      <td>0.35</td>\n",
       "      <td>3.8</td>\n",
       "      <td>0.034</td>\n",
       "      <td>26.0</td>\n",
       "      <td>109.0</td>\n",
       "      <td>0.9906</td>\n",
       "      <td>3.26</td>\n",
       "      <td>0.57</td>\n",
       "      <td>12.7</td>\n",
       "      <td>8</td>\n",
       "      <td>1</td>\n",
       "    </tr>\n",
       "    <tr>\n",
       "      <th>1</th>\n",
       "      <td>6.8</td>\n",
       "      <td>0.53</td>\n",
       "      <td>0.35</td>\n",
       "      <td>3.8</td>\n",
       "      <td>0.034</td>\n",
       "      <td>26.0</td>\n",
       "      <td>109.0</td>\n",
       "      <td>0.9906</td>\n",
       "      <td>3.26</td>\n",
       "      <td>0.57</td>\n",
       "      <td>12.7</td>\n",
       "      <td>8</td>\n",
       "      <td>1</td>\n",
       "    </tr>\n",
       "    <tr>\n",
       "      <th>2</th>\n",
       "      <td>6.8</td>\n",
       "      <td>0.53</td>\n",
       "      <td>0.35</td>\n",
       "      <td>3.8</td>\n",
       "      <td>0.034</td>\n",
       "      <td>26.0</td>\n",
       "      <td>109.0</td>\n",
       "      <td>0.9906</td>\n",
       "      <td>3.26</td>\n",
       "      <td>0.57</td>\n",
       "      <td>12.7</td>\n",
       "      <td>8</td>\n",
       "      <td>1</td>\n",
       "    </tr>\n",
       "    <tr>\n",
       "      <th>3</th>\n",
       "      <td>6.8</td>\n",
       "      <td>0.53</td>\n",
       "      <td>0.35</td>\n",
       "      <td>3.8</td>\n",
       "      <td>0.034</td>\n",
       "      <td>26.0</td>\n",
       "      <td>109.0</td>\n",
       "      <td>0.9906</td>\n",
       "      <td>3.26</td>\n",
       "      <td>0.57</td>\n",
       "      <td>12.7</td>\n",
       "      <td>8</td>\n",
       "      <td>1</td>\n",
       "    </tr>\n",
       "    <tr>\n",
       "      <th>4</th>\n",
       "      <td>6.8</td>\n",
       "      <td>0.53</td>\n",
       "      <td>0.35</td>\n",
       "      <td>3.8</td>\n",
       "      <td>0.034</td>\n",
       "      <td>26.0</td>\n",
       "      <td>109.0</td>\n",
       "      <td>0.9906</td>\n",
       "      <td>3.26</td>\n",
       "      <td>0.57</td>\n",
       "      <td>12.7</td>\n",
       "      <td>8</td>\n",
       "      <td>1</td>\n",
       "    </tr>\n",
       "  </tbody>\n",
       "</table>\n",
       "</div>"
      ],
      "text/plain": [
       "   fixed acidity  volatile acidity  citric acid  residual sugar  chlorides  \\\n",
       "0            6.8              0.53         0.35             3.8      0.034   \n",
       "1            6.8              0.53         0.35             3.8      0.034   \n",
       "2            6.8              0.53         0.35             3.8      0.034   \n",
       "3            6.8              0.53         0.35             3.8      0.034   \n",
       "4            6.8              0.53         0.35             3.8      0.034   \n",
       "\n",
       "   free sulfur dioxide  total sulfur dioxide  density    pH  sulphates  \\\n",
       "0                 26.0                 109.0   0.9906  3.26       0.57   \n",
       "1                 26.0                 109.0   0.9906  3.26       0.57   \n",
       "2                 26.0                 109.0   0.9906  3.26       0.57   \n",
       "3                 26.0                 109.0   0.9906  3.26       0.57   \n",
       "4                 26.0                 109.0   0.9906  3.26       0.57   \n",
       "\n",
       "   alcohol  quality  Type  \n",
       "0     12.7        8     1  \n",
       "1     12.7        8     1  \n",
       "2     12.7        8     1  \n",
       "3     12.7        8     1  \n",
       "4     12.7        8     1  "
      ]
     },
     "execution_count": 9,
     "metadata": {},
     "output_type": "execute_result"
    }
   ],
   "source": [
    "#Labelencoding the categorical data\n",
    "from sklearn.preprocessing import LabelEncoder\n",
    "le = LabelEncoder()\n",
    "df['Type'] = le.fit_transform(df['Type']) \n",
    "\n",
    "df.head()\n"
   ]
  },
  {
   "cell_type": "markdown",
   "metadata": {},
   "source": [
    "So there are only 2 types of wine types and each of the wine types having non numerical values will be converted into numerical values.i.e 0 and 1. O for red ad 1 for white. Now that the wine type is now converted into 0 and 1 this can be taken as a binary classification problem."
   ]
  },
  {
   "cell_type": "markdown",
   "metadata": {},
   "source": [
    "#### Data and targets are separated into 2 different variables"
   ]
  },
  {
   "cell_type": "code",
   "execution_count": 10,
   "metadata": {},
   "outputs": [],
   "source": [
    "data = df.drop('Type', axis=1)\n",
    "target = df['Type']"
   ]
  },
  {
   "cell_type": "markdown",
   "metadata": {},
   "source": [
    "It is good to check for class imblanaces in the dataset because this might affect the performacne of the model. If there is a class imbalance, the model will be biased towards the majority class."
   ]
  },
  {
   "cell_type": "code",
   "execution_count": 11,
   "metadata": {},
   "outputs": [
    {
     "data": {
      "text/plain": [
       "3.0444472111553784"
      ]
     },
     "execution_count": 11,
     "metadata": {},
     "output_type": "execute_result"
    }
   ],
   "source": [
    "#counting the number of 0s and 1s and saving them into 2 variables\n",
    "count_0 = len(df[df['Type']==0])\n",
    "count_1 = len(df[df['Type']==1])\n",
    "\n",
    "\n",
    "if count_0 > count_1:\n",
    "    ratio = count_0/count_1\n",
    "else:\n",
    "    ratio = count_1/count_0\n",
    "\n",
    "ratio"
   ]
  },
  {
   "cell_type": "code",
   "execution_count": 12,
   "metadata": {},
   "outputs": [
    {
     "data": {
      "text/plain": [
       "<seaborn.axisgrid.FacetGrid at 0x1c0432b7c40>"
      ]
     },
     "execution_count": 12,
     "metadata": {},
     "output_type": "execute_result"
    },
    {
     "data": {
      "image/png": "[encoded data removed]",
      "text/plain": [
       "<Figure size 500x500 with 1 Axes>"
      ]
     },
     "metadata": {},
     "output_type": "display_data"
    }
   ],
   "source": [
    "sns.catplot(x='Type', data=df, kind='count')"
   ]
  },
  {
   "cell_type": "markdown",
   "metadata": {},
   "source": [
    "In this case, there is a class imbalance. The white wine class is the majority class and the red wine class is the minority class. This can be seen in the bar graph below."
   ]
  },
  {
   "cell_type": "markdown",
   "metadata": {},
   "source": [
    "#### SMOTE Implementation for class imbalance"
   ]
  },
  {
   "cell_type": "code",
   "execution_count": 13,
   "metadata": {},
   "outputs": [],
   "source": [
    "from imblearn.over_sampling import SMOTE\n",
    "smote = SMOTE(sampling_strategy='minority')\n",
    "sampled_data, sampled_targets = smote.fit_resample(data, target)"
   ]
  },
  {
   "cell_type": "markdown",
   "metadata": {},
   "source": [
    "#### Scaling the data using MinMax Scaler"
   ]
  },
  {
   "cell_type": "code",
   "execution_count": 14,
   "metadata": {},
   "outputs": [],
   "source": [
    "#normalizing the data\n",
    "from sklearn.preprocessing import MinMaxScaler\n",
    "scaler = MinMaxScaler()\n",
    "scaled_data = scaler.fit_transform(sampled_data)\n"
   ]
  },
  {
   "cell_type": "code",
   "execution_count": 15,
   "metadata": {},
   "outputs": [],
   "source": [
    "#spliting the dataset into train and test and validation\n",
    "from sklearn.model_selection import train_test_split\n",
    "\n",
    "x_train, x_test, y_train, y_test = train_test_split(sampled_data, sampled_targets, test_size=0.2, random_state=90)"
   ]
  },
  {
   "cell_type": "markdown",
   "metadata": {},
   "source": [
    "As stated above, now that this can be taken as a binary classification problem, logistic regression can be used to train the model."
   ]
  },
  {
   "cell_type": "code",
   "execution_count": 16,
   "metadata": {},
   "outputs": [
    {
     "name": "stderr",
     "output_type": "stream",
     "text": [
      "c:\\Users\\thamo\\anaconda3\\lib\\site-packages\\sklearn\\linear_model\\_logistic.py:458: ConvergenceWarning: lbfgs failed to converge (status=1):\n",
      "STOP: TOTAL NO. of ITERATIONS REACHED LIMIT.\n",
      "\n",
      "Increase the number of iterations (max_iter) or scale the data as shown in:\n",
      "    https://scikit-learn.org/stable/modules/preprocessing.html\n",
      "Please also refer to the documentation for alternative solver options:\n",
      "    https://scikit-learn.org/stable/modules/linear_model.html#logistic-regression\n",
      "  n_iter_i = _check_optimize_result(\n"
     ]
    }
   ],
   "source": [
    "#using logistic regression\n",
    "from sklearn.linear_model import LogisticRegression\n",
    "from sklearn.metrics import accuracy_score\n",
    "\n",
    "log_reg = LogisticRegression(solver='lbfgs', max_iter=1000)\n",
    "log_reg.fit(x_train, y_train)\n",
    "\n",
    "y_pred = log_reg.predict(x_test)\n",
    "\n",
    "\n"
   ]
  },
  {
   "cell_type": "markdown",
   "metadata": {},
   "source": [
    "## Using Decision Tree Classifier\n"
   ]
  },
  {
   "cell_type": "code",
   "execution_count": 17,
   "metadata": {},
   "outputs": [
    {
     "data": {
      "text/plain": [
       "0.999386628501329"
      ]
     },
     "execution_count": 17,
     "metadata": {},
     "output_type": "execute_result"
    }
   ],
   "source": [
    "from sklearn.tree import DecisionTreeClassifier\n",
    "from sklearn.metrics import accuracy_score\n",
    "\n",
    "dt = DecisionTreeClassifier()\n",
    "dt.fit(x_train, y_train)\n",
    "\n",
    "y_pred_dt = dt.predict(x_test)\n",
    "y_pred_dt\n",
    "\n",
    "#accuracy score\n",
    "accuracy_score(y_test, y_pred_dt)"
   ]
  },
  {
   "cell_type": "code",
   "execution_count": 18,
   "metadata": {},
   "outputs": [
    {
     "data": {
      "text/plain": [
       "array([[4879,    6],\n",
       "       [   0, 4897]], dtype=int64)"
      ]
     },
     "execution_count": 18,
     "metadata": {},
     "output_type": "execute_result"
    }
   ],
   "source": [
    "#confusion matrix\n",
    "from sklearn.metrics import confusion_matrix\n",
    "conf_mat_dt = confusion_matrix(y_test, y_pred_dt)\n",
    "conf_mat_dt\n"
   ]
  },
  {
   "cell_type": "code",
   "execution_count": 19,
   "metadata": {},
   "outputs": [
    {
     "data": {
      "text/plain": [
       "<sklearn.metrics._plot.confusion_matrix.ConfusionMatrixDisplay at 0x1c0433aaef0>"
      ]
     },
     "execution_count": 19,
     "metadata": {},
     "output_type": "execute_result"
    },
    {
     "data": {
      "image/png": "[encoded data removed]",
      "text/plain": [
       "<Figure size 640x480 with 2 Axes>"
      ]
     },
     "metadata": {},
     "output_type": "display_data"
    }
   ],
   "source": [
    "from sklearn.metrics import ConfusionMatrixDisplay \n",
    "disp_dt = ConfusionMatrixDisplay(confusion_matrix=conf_mat_dt, display_labels=['Red Wine','White Wine'])\n",
    "disp_dt.plot()\n"
   ]
  },
  {
   "cell_type": "code",
   "execution_count": 20,
   "metadata": {},
   "outputs": [
    {
     "name": "stdout",
     "output_type": "stream",
     "text": [
      "              precision    recall  f1-score   support\n",
      "\n",
      "           0       1.00      1.00      1.00      4885\n",
      "           1       1.00      1.00      1.00      4897\n",
      "\n",
      "    accuracy                           1.00      9782\n",
      "   macro avg       1.00      1.00      1.00      9782\n",
      "weighted avg       1.00      1.00      1.00      9782\n",
      "\n"
     ]
    }
   ],
   "source": [
    "#classification report\n",
    "from sklearn.metrics import classification_report\n",
    "print(classification_report(y_test, y_pred_dt))\n"
   ]
  },
  {
   "cell_type": "markdown",
   "metadata": {},
   "source": [
    "## Using Random Forest"
   ]
  },
  {
   "cell_type": "code",
   "execution_count": 21,
   "metadata": {},
   "outputs": [
    {
     "data": {
      "text/plain": [
       "0.9996933142506644"
      ]
     },
     "execution_count": 21,
     "metadata": {},
     "output_type": "execute_result"
    }
   ],
   "source": [
    "#using random forest\n",
    "from sklearn.ensemble import RandomForestClassifier\n",
    "\n",
    "rf = RandomForestClassifier()\n",
    "rf.fit(x_train, y_train)\n",
    "\n",
    "y_pred_rf = rf.predict(x_test)\n",
    "\n",
    "#accuracy score\n",
    "accuracy_score(y_test, y_pred_rf)\n",
    "\n"
   ]
  },
  {
   "cell_type": "markdown",
   "metadata": {},
   "source": [
    "#### Confusion Matric for random forest classifier\n"
   ]
  },
  {
   "cell_type": "code",
   "execution_count": 22,
   "metadata": {},
   "outputs": [
    {
     "data": {
      "text/plain": [
       "array([[4882,    3],\n",
       "       [   0, 4897]], dtype=int64)"
      ]
     },
     "execution_count": 22,
     "metadata": {},
     "output_type": "execute_result"
    }
   ],
   "source": [
    "conf_mat_rf = confusion_matrix(y_test, y_pred_rf)\n",
    "conf_mat_rf\n"
   ]
  },
  {
   "cell_type": "code",
   "execution_count": 23,
   "metadata": {},
   "outputs": [
    {
     "data": {
      "text/plain": [
       "<sklearn.metrics._plot.confusion_matrix.ConfusionMatrixDisplay at 0x1c046bb13c0>"
      ]
     },
     "execution_count": 23,
     "metadata": {},
     "output_type": "execute_result"
    },
    {
     "data": {
      "image/png": "[encoded data removed]",
      "text/plain": [
       "<Figure size 640x480 with 2 Axes>"
      ]
     },
     "metadata": {},
     "output_type": "display_data"
    }
   ],
   "source": [
    "disp_rf = ConfusionMatrixDisplay(confusion_matrix=conf_mat_rf, display_labels=['Red Wine','White Wine'])\n",
    "disp_rf.plot()\n"
   ]
  },
  {
   "cell_type": "code",
   "execution_count": 24,
   "metadata": {},
   "outputs": [
    {
     "name": "stdout",
     "output_type": "stream",
     "text": [
      "              precision    recall  f1-score   support\n",
      "\n",
      "           0       1.00      1.00      1.00      4885\n",
      "           1       1.00      1.00      1.00      4897\n",
      "\n",
      "    accuracy                           1.00      9782\n",
      "   macro avg       1.00      1.00      1.00      9782\n",
      "weighted avg       1.00      1.00      1.00      9782\n",
      "\n"
     ]
    }
   ],
   "source": [
    "print(classification_report(y_test, y_pred_rf))\n"
   ]
  },
  {
   "cell_type": "markdown",
   "metadata": {},
   "source": [
    "## Using KNN"
   ]
  },
  {
   "cell_type": "code",
   "execution_count": 25,
   "metadata": {},
   "outputs": [
    {
     "data": {
      "text/plain": [
       "0.9950930280106318"
      ]
     },
     "execution_count": 25,
     "metadata": {},
     "output_type": "execute_result"
    }
   ],
   "source": [
    "from sklearn.neighbors import KNeighborsClassifier\n",
    "\n",
    "knn = KNeighborsClassifier()\n",
    "knn.fit(x_train, y_train)\n",
    "\n",
    "y_pred_knn = knn.predict(x_test)\n",
    "\n",
    "accuracy_score(y_test, y_pred_knn)\n"
   ]
  },
  {
   "cell_type": "code",
   "execution_count": 26,
   "metadata": {},
   "outputs": [
    {
     "data": {
      "text/plain": [
       "array([[4874,   11],\n",
       "       [  37, 4860]], dtype=int64)"
      ]
     },
     "execution_count": 26,
     "metadata": {},
     "output_type": "execute_result"
    }
   ],
   "source": [
    "conf_mat_knn = confusion_matrix(y_test, y_pred_knn)\n",
    "conf_mat_knn"
   ]
  },
  {
   "cell_type": "code",
   "execution_count": 27,
   "metadata": {},
   "outputs": [
    {
     "data": {
      "text/plain": [
       "<sklearn.metrics._plot.confusion_matrix.ConfusionMatrixDisplay at 0x1c047db4550>"
      ]
     },
     "execution_count": 27,
     "metadata": {},
     "output_type": "execute_result"
    },
    {
     "data": {
      "image/png": "[encoded data removed]",
      "text/plain": [
       "<Figure size 640x480 with 2 Axes>"
      ]
     },
     "metadata": {},
     "output_type": "display_data"
    }
   ],
   "source": [
    "disp_knn = ConfusionMatrixDisplay(confusion_matrix=conf_mat_knn, display_labels=['Red Wine','White Wine'])\n",
    "disp_knn.plot()\n"
   ]
  },
  {
   "cell_type": "code",
   "execution_count": 31,
   "metadata": {},
   "outputs": [
    {
     "name": "stdout",
     "output_type": "stream",
     "text": [
      "              precision    recall  f1-score   support\n",
      "\n",
      "           0       0.99      1.00      1.00      4885\n",
      "           1       1.00      0.99      1.00      4897\n",
      "\n",
      "    accuracy                           1.00      9782\n",
      "   macro avg       1.00      1.00      1.00      9782\n",
      "weighted avg       1.00      1.00      1.00      9782\n",
      "\n"
     ]
    }
   ],
   "source": [
    "print(classification_report(y_test, y_pred_knn))"
   ]
  },
  {
   "cell_type": "markdown",
   "metadata": {},
   "source": [
    "### Using Support Vector Machine"
   ]
  },
  {
   "cell_type": "code",
   "execution_count": 28,
   "metadata": {},
   "outputs": [
    {
     "data": {
      "text/plain": [
       "0.92046616233899"
      ]
     },
     "execution_count": 28,
     "metadata": {},
     "output_type": "execute_result"
    }
   ],
   "source": [
    "#using svm\n",
    "from sklearn.svm import SVC\n",
    "\n",
    "svm = SVC()\n",
    "svm.fit(x_train, y_train)\n",
    "\n",
    "y_pred_svm = svm.predict(x_test)\n",
    "\n",
    "accuracy_score(y_test, y_pred_svm)"
   ]
  },
  {
   "cell_type": "code",
   "execution_count": 29,
   "metadata": {},
   "outputs": [
    {
     "data": {
      "text/plain": [
       "array([[4296,  589],\n",
       "       [ 189, 4708]], dtype=int64)"
      ]
     },
     "execution_count": 29,
     "metadata": {},
     "output_type": "execute_result"
    }
   ],
   "source": [
    "conf_mat_svm = confusion_matrix(y_test, y_pred_svm)\n",
    "conf_mat_svm"
   ]
  },
  {
   "cell_type": "code",
   "execution_count": 30,
   "metadata": {},
   "outputs": [
    {
     "data": {
      "text/plain": [
       "<sklearn.metrics._plot.confusion_matrix.ConfusionMatrixDisplay at 0x1c046c35900>"
      ]
     },
     "execution_count": 30,
     "metadata": {},
     "output_type": "execute_result"
    },
    {
     "data": {
      "image/png": "[encoded data removed]",
      "text/plain": [
       "<Figure size 640x480 with 2 Axes>"
      ]
     },
     "metadata": {},
     "output_type": "display_data"
    }
   ],
   "source": [
    "disp_svm = ConfusionMatrixDisplay(confusion_matrix=conf_mat_svm, display_labels=['Red Wine','White Wine'])\n",
    "disp_svm.plot()\n"
   ]
  },
  {
   "cell_type": "code",
   "execution_count": 32,
   "metadata": {},
   "outputs": [
    {
     "name": "stdout",
     "output_type": "stream",
     "text": [
      "              precision    recall  f1-score   support\n",
      "\n",
      "           0       0.96      0.88      0.92      4885\n",
      "           1       0.89      0.96      0.92      4897\n",
      "\n",
      "    accuracy                           0.92      9782\n",
      "   macro avg       0.92      0.92      0.92      9782\n",
      "weighted avg       0.92      0.92      0.92      9782\n",
      "\n"
     ]
    }
   ],
   "source": [
    "print(classification_report(y_test, y_pred_svm))"
   ]
  },
  {
   "cell_type": "code",
   "execution_count": null,
   "metadata": {},
   "outputs": [],
   "source": []
  }
 ],
 "metadata": {
  "kernelspec": {
   "display_name": "base",
   "language": "python",
   "name": "python3"
  },
  "language_info": {
   "codemirror_mode": {
    "name": "ipython",
    "version": 3
   },
   "file_extension": ".py",
   "mimetype": "text/x-python",
   "name": "python",
   "nbconvert_exporter": "python",
   "pygments_lexer": "ipython3",
   "version": "3.10.9"
  },
  "orig_nbformat": 4
 },
 "nbformat": 4,
 "nbformat_minor": 2
}
